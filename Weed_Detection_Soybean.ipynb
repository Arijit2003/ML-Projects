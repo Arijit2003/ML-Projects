{
  "cells": [
    {
      "cell_type": "code",
      "execution_count": null,
      "metadata": {
        "colab": {
          "base_uri": "https://localhost:8080/"
        },
        "id": "GRBheZyuzM47",
        "outputId": "cf3add9d-c663-4263-88b2-91353d93b8a6"
      },
      "outputs": [
        {
          "name": "stdout",
          "output_type": "stream",
          "text": [
            "Collecting opendatasets\n",
            "  Downloading opendatasets-0.1.22-py3-none-any.whl (15 kB)\n",
            "Requirement already satisfied: tqdm in /usr/local/lib/python3.10/dist-packages (from opendatasets) (4.65.0)\n",
            "Requirement already satisfied: kaggle in /usr/local/lib/python3.10/dist-packages (from opendatasets) (1.5.16)\n",
            "Requirement already satisfied: click in /usr/local/lib/python3.10/dist-packages (from opendatasets) (8.1.6)\n",
            "Requirement already satisfied: six>=1.10 in /usr/local/lib/python3.10/dist-packages (from kaggle->opendatasets) (1.16.0)\n",
            "Requirement already satisfied: certifi in /usr/local/lib/python3.10/dist-packages (from kaggle->opendatasets) (2023.7.22)\n",
            "Requirement already satisfied: python-dateutil in /usr/local/lib/python3.10/dist-packages (from kaggle->opendatasets) (2.8.2)\n",
            "Requirement already satisfied: requests in /usr/local/lib/python3.10/dist-packages (from kaggle->opendatasets) (2.31.0)\n",
            "Requirement already satisfied: python-slugify in /usr/local/lib/python3.10/dist-packages (from kaggle->opendatasets) (8.0.1)\n",
            "Requirement already satisfied: urllib3 in /usr/local/lib/python3.10/dist-packages (from kaggle->opendatasets) (1.26.16)\n",
            "Requirement already satisfied: bleach in /usr/local/lib/python3.10/dist-packages (from kaggle->opendatasets) (6.0.0)\n",
            "Requirement already satisfied: webencodings in /usr/local/lib/python3.10/dist-packages (from bleach->kaggle->opendatasets) (0.5.1)\n",
            "Requirement already satisfied: text-unidecode>=1.3 in /usr/local/lib/python3.10/dist-packages (from python-slugify->kaggle->opendatasets) (1.3)\n",
            "Requirement already satisfied: charset-normalizer<4,>=2 in /usr/local/lib/python3.10/dist-packages (from requests->kaggle->opendatasets) (3.2.0)\n",
            "Requirement already satisfied: idna<4,>=2.5 in /usr/local/lib/python3.10/dist-packages (from requests->kaggle->opendatasets) (3.4)\n",
            "Installing collected packages: opendatasets\n",
            "Successfully installed opendatasets-0.1.22\n"
          ]
        }
      ],
      "source": [
        "!pip install opendatasets"
      ]
    },
    {
      "cell_type": "code",
      "execution_count": null,
      "metadata": {
        "colab": {
          "base_uri": "https://localhost:8080/"
        },
        "id": "hHbYbLMzzXe_",
        "outputId": "e7dd9238-6cbc-467f-ac8c-66611c2f0db9"
      },
      "outputs": [
        {
          "name": "stdout",
          "output_type": "stream",
          "text": [
            "Please provide your Kaggle credentials to download this dataset. Learn more: http://bit.ly/kaggle-creds\n",
            "Your Kaggle username: arijitmodak\n",
            "Your Kaggle Key: ··········\n",
            "Downloading weed-detection-in-soybean-crops.zip to ./weed-detection-in-soybean-crops\n"
          ]
        },
        {
          "name": "stderr",
          "output_type": "stream",
          "text": [
            "100%|██████████| 2.37G/2.37G [01:25<00:00, 29.5MB/s]\n"
          ]
        },
        {
          "name": "stdout",
          "output_type": "stream",
          "text": [
            "\n"
          ]
        }
      ],
      "source": [
        "import opendatasets as data\n",
        "url=\"https://www.kaggle.com/datasets/fpeccia/weed-detection-in-soybean-crops\"\n",
        "data.download(url)"
      ]
    },
    {
      "cell_type": "code",
      "execution_count": null,
      "metadata": {
        "id": "UMK4OKyVztO-"
      },
      "outputs": [],
      "source": [
        "import tensorflow as tf\n",
        "import numpy as np\n",
        "import matplotlib.pyplot as plt\n",
        "import cv2"
      ]
    },
    {
      "cell_type": "code",
      "execution_count": null,
      "metadata": {
        "id": "ecMif_oczwQ5"
      },
      "outputs": [],
      "source": [
        "IMAGE_SIZE=100\n",
        "BATCH_SIZE=200\n",
        "CHANNELS=3"
      ]
    },
    {
      "cell_type": "code",
      "execution_count": null,
      "metadata": {
        "colab": {
          "base_uri": "https://localhost:8080/"
        },
        "id": "UNNn_r6Uzx-e",
        "outputId": "b74f705d-9870-4b62-b339-f3b0a6926c6e"
      },
      "outputs": [
        {
          "name": "stdout",
          "output_type": "stream",
          "text": [
            "Requirement already satisfied: Pillow in /usr/local/lib/python3.10/dist-packages (9.4.0)\n"
          ]
        }
      ],
      "source": [
        "!pip install Pillow"
      ]
    },
    {
      "cell_type": "code",
      "execution_count": null,
      "metadata": {
        "id": "4SjPC1poz2ji"
      },
      "outputs": [],
      "source": [
        "# # # Warning dont run this code This is used only for converting and tif to jpg and storing it to another folder\n",
        "\n",
        "# from PIL import Image\n",
        "# import os\n",
        "\n",
        "# # Input and output folder paths\n",
        "# input_folder = '/content/weed-detection-in-soybean-crops/dataset/broadleaf'\n",
        "# output_folder = '/content/SoybeanWeedDataset/broadleaf'\n",
        "\n",
        "# # Create the output folder if it doesn't exist\n",
        "# if not os.path.exists(output_folder):\n",
        "#     os.makedirs(output_folder)\n",
        "\n",
        "# # List all the files in the input folder\n",
        "# tif_files = os.listdir(input_folder)\n",
        "\n",
        "# for file in tif_files:\n",
        "#     # Check if the file is a TIFF image\n",
        "#     if file.lower().endswith('.tif') or file.lower().endswith('.tiff'):\n",
        "#         # Load the TIFF image\n",
        "#         tif_image = Image.open(os.path.join(input_folder, file))\n",
        "\n",
        "#         # Convert the image to JPG format and save it in the output folder\n",
        "#         jpg_filename = file.split('.')[0] + '.jpg'\n",
        "#         tif_image.save(os.path.join(output_folder, jpg_filename), format='JPEG')"
      ]
    },
    {
      "cell_type": "code",
      "execution_count": null,
      "metadata": {
        "colab": {
          "base_uri": "https://localhost:8080/"
        },
        "id": "dKpGWHHc2jkn",
        "outputId": "805c722e-d0ca-4c5a-dc8b-03bcd02408b9"
      },
      "outputs": [
        {
          "name": "stdout",
          "output_type": "stream",
          "text": [
            "Found 15336 files belonging to 4 classes.\n",
            "['broadleaf', 'grass', 'soil', 'soybean']\n"
          ]
        }
      ],
      "source": [
        "dataset=tf.keras.preprocessing.image_dataset_from_directory(\n",
        "    \"/content/SoybeanWeedDataset/dataset\",\n",
        "    shuffle=True,\n",
        "    image_size=(IMAGE_SIZE,IMAGE_SIZE),\n",
        "    batch_size=BATCH_SIZE\n",
        "    )\n",
        "print(dataset.class_names)"
      ]
    },
    {
      "cell_type": "code",
      "execution_count": null,
      "metadata": {
        "colab": {
          "base_uri": "https://localhost:8080/"
        },
        "id": "O7wqht--3Cgk",
        "outputId": "1a6b2962-74f1-4c0a-8f08-766aff412d46"
      },
      "outputs": [
        {
          "name": "stdout",
          "output_type": "stream",
          "text": [
            "77\n"
          ]
        }
      ],
      "source": [
        "x=[]\n",
        "y=[]\n",
        "print(len(dataset))\n",
        "for image_batch,label_batch in dataset.take(len(dataset)):\n",
        "  # print(image_batch.shape)\n",
        "  # print(label_batch.shape)\n",
        "  for i in range(len(image_batch)):\n",
        "     img=np.uint8(image_batch[i].numpy())\n",
        "     x.append(img)\n",
        "     y.append(label_batch[i])"
      ]
    },
    {
      "cell_type": "code",
      "execution_count": null,
      "metadata": {
        "colab": {
          "base_uri": "https://localhost:8080/"
        },
        "id": "adOAApzG3Qo9",
        "outputId": "5f732587-1832-48f8-d37a-6082a2574b2f"
      },
      "outputs": [
        {
          "name": "stdout",
          "output_type": "stream",
          "text": [
            "(15336, 100, 100, 3)\n",
            "(15336,)\n"
          ]
        }
      ],
      "source": [
        "x=np.array(x)\n",
        "y=np.array(y)\n",
        "print(x.shape)\n",
        "print(y.shape)"
      ]
    },
    {
      "cell_type": "code",
      "execution_count": null,
      "metadata": {
        "id": "Hb2yyGYl3Tu-"
      },
      "outputs": [],
      "source": [
        "from sklearn.model_selection import train_test_split\n",
        "from tensorflow.keras import datasets,layers,models\n",
        "from sklearn.metrics import confusion_matrix,accuracy_score"
      ]
    },
    {
      "cell_type": "code",
      "execution_count": null,
      "metadata": {
        "colab": {
          "base_uri": "https://localhost:8080/"
        },
        "id": "5qcep6c83UNJ",
        "outputId": "c2ee6a5b-45ab-4dcc-b213-9bc3e2c3e994"
      },
      "outputs": [
        {
          "name": "stdout",
          "output_type": "stream",
          "text": [
            "4\n"
          ]
        }
      ],
      "source": [
        "classes=['broadleaf','grass','soil','soyabean']\n",
        "print(len(classes))"
      ]
    },
    {
      "cell_type": "code",
      "execution_count": null,
      "metadata": {
        "colab": {
          "base_uri": "https://localhost:8080/"
        },
        "id": "C76oAhCR3WGk",
        "outputId": "584e47b7-9efe-4097-f734-1566cbdc37e2"
      },
      "outputs": [
        {
          "name": "stdout",
          "output_type": "stream",
          "text": [
            "(12268, 100, 100, 3)\n",
            "(12268,)\n"
          ]
        }
      ],
      "source": [
        "x_train,x_test,y_train,y_test=train_test_split(x,y,test_size=0.2,random_state=1)\n",
        "print(x_train.shape)\n",
        "print(y_train.shape)"
      ]
    },
    {
      "cell_type": "code",
      "execution_count": null,
      "metadata": {
        "colab": {
          "base_uri": "https://localhost:8080/"
        },
        "id": "fA4auLTU3Z-Y",
        "outputId": "cf7a6e70-7589-4ca6-9910-41c80a006203"
      },
      "outputs": [
        {
          "name": "stdout",
          "output_type": "stream",
          "text": [
            "Epoch 1/2\n",
            "384/384 [==============================] - 19s 13ms/step - loss: 0.4863 - accuracy: 0.8335\n",
            "Epoch 2/2\n",
            "384/384 [==============================] - 5s 13ms/step - loss: 0.2660 - accuracy: 0.9041\n"
          ]
        },
        {
          "data": {
            "text/plain": [
              "<keras.callbacks.History at 0x7e9d42276410>"
            ]
          },
          "execution_count": 32,
          "metadata": {},
          "output_type": "execute_result"
        }
      ],
      "source": [
        "# normalize the images\n",
        "x_train=x_train/255.0\n",
        "x_test=x_test/255.0\n",
        "\n",
        "#implementing ann\n",
        "\n",
        "cnn= models.Sequential([\n",
        "    #cnn\n",
        "    layers.Conv2D(filters=32,kernel_size = ( 3, 3),activation=\"relu\",input_shape=(100,100,3)),\n",
        "    layers.MaxPooling2D((2,2)),\n",
        "\n",
        "\n",
        "    # dense\n",
        "    layers.Flatten(),\n",
        "    layers.Dense(64,activation=\"relu\"),\n",
        "    layers.Dense(4,activation=\"softmax\")\n",
        "])\n",
        "\n",
        "cnn.compile(optimizer=\"adam\",loss=\"sparse_categorical_crossentropy\",metrics=['accuracy'])\n",
        "cnn.fit(x_train,y_train,epochs=2)"
      ]
    },
    {
      "cell_type": "code",
      "execution_count": null,
      "metadata": {
        "colab": {
          "base_uri": "https://localhost:8080/"
        },
        "id": "qorr7qhTFcae",
        "outputId": "06167241-2211-454e-ac78-50190f420d93"
      },
      "outputs": [
        {
          "name": "stdout",
          "output_type": "stream",
          "text": [
            "96/96 [==============================] - 1s 7ms/step - loss: 0.2878 - accuracy: 0.8996\n"
          ]
        }
      ],
      "source": [
        "cnn.evaluate(x_test,y_test)"
      ]
    },
    {
      "cell_type": "code",
      "execution_count": null,
      "metadata": {
        "colab": {
          "background_save": true
        },
        "id": "M4_j8aFuFwDL",
        "outputId": "65347aaf-4dce-4eb8-8bb7-e6a29f62097a"
      },
      "outputs": [
        {
          "name": "stdout",
          "output_type": "stream",
          "text": [
            "96/96 [==============================] - 0s 3ms/step\n",
            "[3 3 3 2 3] \t [3, 3, 3, 2, 3]\n",
            "0.8996088657105606\n"
          ]
        }
      ],
      "source": [
        "y_pred=cnn.predict(x_test)\n",
        "y_pred_classes=[np.argmax(element) for element in y_pred]\n",
        "\n",
        "print(y_test[:5],\"\\t\",y_pred_classes[:5])\n",
        "print(accuracy_score(y_test,y_pred_classes))"
      ]
    },
    {
      "cell_type": "code",
      "execution_count": null,
      "metadata": {
        "id": "KBwcSudaF3i3"
      },
      "outputs": [],
      "source": [
        "test_img=x_test[17]\n",
        "print(test_img.shape)\n",
        "nx,ny,nrgb=test_img.shape\n",
        "test_image=test_img.reshape(1,nx,ny,nrgb)\n",
        "print(test_image.shape)\n",
        "#print(test_image)\n",
        "pred=cnn.predict(test_image)\n",
        "pred_classes=[np.argmax(element) for element in pred]\n",
        "\n",
        "plt.imshow(test_img)\n",
        "plt.xlabel(\"Prediction:  \"+classes[pred_classes[0]])\n",
        "plt.ylabel(\"Actual:  \"+classes[y_test[17]])"
      ]
    },
    {
      "cell_type": "code",
      "execution_count": null,
      "metadata": {
        "colab": {
          "base_uri": "https://localhost:8080/"
        },
        "id": "Q31F3PODF9ek",
        "outputId": "7f5a5ace-1e49-4679-a7f9-843cfa027417"
      },
      "outputs": [
        {
          "name": "stdout",
          "output_type": "stream",
          "text": [
            "(100, 100, 3)\n",
            "(1, 100, 100, 3)\n"
          ]
        }
      ],
      "source": [
        "image=cv2.imread(\"/content/trump.jpg\")\n",
        "#image=cv2.imread(\"/content/SoybeanWeed/broadleaf/1149.jpg\")\n",
        "image=cv2.cvtColor(image,cv2.COLOR_BGR2RGB)\n",
        "image=cv2.resize(image,(100,100))\n",
        "image=image/255.0\n",
        "test_img=image.reshape(1,100,100,3)\n",
        "\n",
        "print(image.shape)\n",
        "print(test_img.shape)"
      ]
    },
    {
      "cell_type": "code",
      "execution_count": null,
      "metadata": {
        "id": "3TllRAtjroDO"
      },
      "outputs": [],
      "source": [
        "threshold = 0.8\n",
        "\n",
        "pred = cnn.predict(test_img)\n",
        "pred_classes=[np.argmax(element) for element in pred]\n",
        "npred=np.array(pred)\n",
        "predp=npred.flatten()\n",
        "print(predp)\n",
        "\n",
        "max_prob = np.max(pred)\n",
        "print(max_prob)\n",
        "if max_prob > threshold:\n",
        "    plt.imshow(image)\n",
        "    plt.xlabel(\"Prediction:  \"+classes[pred_classes[0]])\n",
        "else:\n",
        "    plt.imshow(image)\n",
        "    plt.xlabel(\"Unidentified Class\")"
      ]
    }
  ],
  "metadata": {
    "accelerator": "GPU",
    "colab": {
      "provenance": []
    },
    "kernelspec": {
      "display_name": "Python 3",
      "name": "python3"
    },
    "language_info": {
      "name": "python"
    }
  },
  "nbformat": 4,
  "nbformat_minor": 0
}